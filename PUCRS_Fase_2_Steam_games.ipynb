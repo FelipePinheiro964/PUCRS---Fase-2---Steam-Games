{
  "nbformat": 4,
  "nbformat_minor": 0,
  "metadata": {
    "colab": {
      "provenance": [],
      "authorship_tag": "ABX9TyNVg0kQd3GXV/AL43aBdoPQ",
      "include_colab_link": true
    },
    "kernelspec": {
      "name": "python3",
      "display_name": "Python 3"
    },
    "language_info": {
      "name": "python"
    }
  },
  "cells": [
    {
      "cell_type": "markdown",
      "metadata": {
        "id": "view-in-github",
        "colab_type": "text"
      },
      "source": [
        "<a href=\"https://colab.research.google.com/github/FelipePinheiro964/PUCRS---Fase-2---Steam-Games/blob/main/PUCRS_Fase_2_Steam_games.ipynb\" target=\"_parent\"><img src=\"https://colab.research.google.com/assets/colab-badge.svg\" alt=\"Open In Colab\"/></a>"
      ]
    },
    {
      "cell_type": "markdown",
      "source": [
        "*TRABALHO DE PROGRAMAÇÃO PARA DADOS*\n",
        "\n",
        "_NOME:_ Felipe Pinheiro Fossá -\n",
        "_CURSO:_ Banco de Dados: ênfase em data Analytics"
      ],
      "metadata": {
        "id": "_tqUAvKRyid4"
      }
    },
    {
      "cell_type": "code",
      "source": [
        "\n",
        "import pandas as pd\n",
        "\n",
        "#seleção de arquivo\n",
        "f = input('Digite o nome do arquivo: ')\n",
        "\n",
        "#finalização forçada\n",
        "if str.lower(f) == 'sair':\n",
        "  SystemExit\n",
        "  print('Saindo...')\n",
        "else:\n",
        "  tabela = pd.read_csv(f, sep=\",\")\n",
        "  if tabela.empty:\n",
        "    print('Arquivo vazio.')\n",
        "\n",
        "match input('Digite o número da questão: '):\n",
        "  case '0':\n",
        "    SystemExit\n",
        "  case '1':\n",
        "    try:\n",
        "      questao_1 = tabela[['Name', 'Metacritic score', 'Release date']]\n",
        "      if questao_1['Release date'].duplicated().any():\n",
        "        questao_1_order = questao_1.sort_values(by= 'Release date' and 'Metacritic score', ascending=True)# Mostra os 10 maiores\n",
        "        display(questao_1_order.tail(n=10))                                                               #false mostrava os 10 menores\n",
        "      else:\n",
        "        questao_1_10 = questao_1.copy()\n",
        "        top_10_maiores_notas = questao_1_10.nlargest(10, 'Metacritic score').sort_values(by='Metacritic score', ascending=False) # mostra os maiores por ter poucos dados\n",
        "        display(top_10_maiores_notas.tail(n=10))\n",
        "    except FileNotFoundError:\n",
        "      print('Digite um nome válido')\n"
      ],
      "metadata": {
        "colab": {
          "base_uri": "https://localhost:8080/"
        },
        "id": "MRPFIYj9ovvk",
        "outputId": "348e54dd-0e20-4b3a-a149-4f21fc966afa"
      },
      "execution_count": 49,
      "outputs": [
        {
          "name": "stdout",
          "output_type": "stream",
          "text": [
            "Digite o nome do arquivo: sair\n",
            "Saindo...\n",
            "Digite o número da questão: sair\n"
          ]
        }
      ]
    }
  ]
}