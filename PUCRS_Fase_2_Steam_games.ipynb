{
  "nbformat": 4,
  "nbformat_minor": 0,
  "metadata": {
    "colab": {
      "provenance": [],
      "authorship_tag": "ABX9TyOnEZVMIqUEf+8grgCNPpYI",
      "include_colab_link": true
    },
    "kernelspec": {
      "name": "python3",
      "display_name": "Python 3"
    },
    "language_info": {
      "name": "python"
    }
  },
  "cells": [
    {
      "cell_type": "markdown",
      "metadata": {
        "id": "view-in-github",
        "colab_type": "text"
      },
      "source": [
        "<a href=\"https://colab.research.google.com/github/FelipePinheiro964/PUCRS---Fase-2---Steam-Games/blob/main/PUCRS_Fase_2_Steam_games.ipynb\" target=\"_parent\"><img src=\"https://colab.research.google.com/assets/colab-badge.svg\" alt=\"Open In Colab\"/></a>"
      ]
    },
    {
      "cell_type": "markdown",
      "source": [
        "*TRABALHO DE PROGRAMAÇÃO PARA DADOS*\n",
        "\n",
        "_NOME:_ Felipe Pinheiro Fossá -\n",
        "_CURSO:_ Banco de Dados: ênfase em data Analytics"
      ],
      "metadata": {
        "id": "_tqUAvKRyid4"
      }
    },
    {
      "cell_type": "code",
      "source": [
        "import sys\n",
        "import pandas as pd\n",
        "\n",
        "#seleção de arquivo\n",
        "f = input('Digite o nome do arquivo: ')\n",
        "\n",
        "#finalização forçada\n",
        "if str.lower(f) == 'sair':\n",
        "  print('Saindo...')\n",
        "  sys.exit()\n",
        "else:\n",
        "  tabela = pd.read_csv(f, sep=\",\")\n",
        "  if tabela.empty:\n",
        "    print('Arquivo vazio.')\n",
        "\n",
        "match input('Digite o número da questão: '):\n",
        "  case '0':\n",
        "    print('Saindo...')\n",
        "    sys.exit()\n",
        "  case '1':\n",
        "    try:\n",
        "      questao_1 = tabela[['Name', 'Metacritic score', 'Release date']]\n",
        "      if questao_1['Release date'].duplicated().any():\n",
        "        questao_1_order = questao_1.sort_values(by= 'Release date' and 'Metacritic score', ascending=True)# Mostra os 10 maiores\n",
        "        display(questao_1_order.tail(n=10))                                                               #false mostrava os 10 menores\n",
        "      else:\n",
        "        questao_1_10 = questao_1.copy()\n",
        "        top_10_maiores_notas = questao_1_10.nlargest(10, 'Metacritic score').sort_values(by='Metacritic score', ascending=False) # mostra os maiores por ter poucos dados\n",
        "        display(top_10_maiores_notas.tail(n=10))\n",
        "    except FileNotFoundError:\n",
        "      print('Digite um nome válido')\n"
      ],
      "metadata": {
        "colab": {
          "base_uri": "https://localhost:8080/",
          "height": 128
        },
        "id": "MRPFIYj9ovvk",
        "outputId": "45327053-758a-41a6-d8fa-998a9df61985"
      },
      "execution_count": 52,
      "outputs": [
        {
          "output_type": "stream",
          "name": "stdout",
          "text": [
            "Digite o nome do arquivo: SAir\n",
            "Saindo...\n"
          ]
        },
        {
          "output_type": "error",
          "ename": "SystemExit",
          "evalue": "",
          "traceback": [
            "An exception has occurred, use %tb to see the full traceback.\n",
            "\u001b[0;31mSystemExit\u001b[0m\n"
          ]
        }
      ]
    }
  ]
}