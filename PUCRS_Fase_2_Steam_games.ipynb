{
  "nbformat": 4,
  "nbformat_minor": 0,
  "metadata": {
    "colab": {
      "provenance": [],
      "authorship_tag": "ABX9TyMcaRTab+HGSLEyP1Dn7V+/",
      "include_colab_link": true
    },
    "kernelspec": {
      "name": "python3",
      "display_name": "Python 3"
    },
    "language_info": {
      "name": "python"
    }
  },
  "cells": [
    {
      "cell_type": "markdown",
      "metadata": {
        "id": "view-in-github",
        "colab_type": "text"
      },
      "source": [
        "<a href=\"https://colab.research.google.com/github/FelipePinheiro964/PUCRS---Fase-2---Steam-Games/blob/main/PUCRS_Fase_2_Steam_games.ipynb\" target=\"_parent\"><img src=\"https://colab.research.google.com/assets/colab-badge.svg\" alt=\"Open In Colab\"/></a>"
      ]
    },
    {
      "cell_type": "markdown",
      "source": [
        "*TRABALHO DE PROGRAMAÇÃO PARA DADOS*\n",
        "\n",
        "_NOME:_ Felipe Pinheiro Fossá -\n",
        "_CURSO:_ Banco de Dados: ênfase em data Analytics"
      ],
      "metadata": {
        "id": "_tqUAvKRyid4"
      }
    },
    {
      "cell_type": "code",
      "source": [
        "import sys\n",
        "import pandas as pd\n",
        "import matplotlib.pyplot as plt\n",
        "import numpy as np\n",
        "\n",
        "#seleção de arquivo\n",
        "f = input('Digite o nome do arquivo: ')\n",
        "\n",
        "#finalização forçada\n",
        "if str.lower(f) == 'sair':\n",
        "  print('Saindo...')\n",
        "  sys.exit('O sistema foi finalizado pelo usuario, inicie novamente para outro uso.')\n",
        "else:\n",
        "  tabela = pd.read_csv(f, sep=\",\")\n",
        "  if tabela.empty:\n",
        "    print('Arquivo vazio.')\n",
        "\n",
        "match input('Digite o número da questão: '):\n",
        "  case '0':\n",
        "    print('Saindo...')\n",
        "    sys.exit('O sistema foi finalizado pelo usuario, inicie novamente para outro uso.')\n",
        "  case '1': #questão 1\n",
        "    try:\n",
        "\n",
        "      questao_1 = tabela[['Name', 'Metacritic score', 'Release date']]\n",
        "\n",
        "      if questao_1['Release date'].duplicated().any():\n",
        "        questao_1_order = questao_1.sort_values(by= 'Release date' and 'Metacritic score', ascending=True)# Mostra os 10 maiores\n",
        "        display(questao_1_order.tail(n=10))                                                               #false mostrava os 10 menores\n",
        "\n",
        "      else:\n",
        "\n",
        "        questao_1_10 = questao_1.copy()\n",
        "        top_10_notas = questao_1_10.nlargest(10, 'Metacritic score').sort_values(by='Metacritic score', ascending=False) # mostra os maiores por ter poucos dados\n",
        "        display(top_10_notas.tail(n=10))\n",
        "\n",
        "    except FileNotFoundError:\n",
        "      print('Digite um nome válido')\n",
        "\n",
        "  case '2':\n",
        "        #try:\n",
        "          tabela_copy = tabela.copy() #cria uma copia da tabela\n",
        "          mask = tabela_copy['Genres'].str.contains('RPG', case=False, na=False) #procura todos os generos RPG\n",
        "          RPG = tabela_copy[mask] #cria uma variavel RPG para facilitar leitura\n",
        "          RPG = RPG.dropna(subset=['Genres']) #retiro qualquer genero None presente\n",
        "          print('Neste arquivo, temos:')\n",
        "          display(RPG)\n",
        "          #Media e maximo de DLCs no genero\n",
        "          print()\n",
        "\n",
        "          #DLCs do Genero RPG\n",
        "          max_DLC = RPG['DLC count'].max() #mostra o maior valor de DLCs\n",
        "          print(f'Para o genero RPG, temos {max_DLC:.2f} DLCs')\n",
        "\n",
        "          media_DLC = RPG['DLC count'].mean()\n",
        "          print(f'Em media, temos {media_DLC:.2f} DLCs presentes nesta categoria')\n",
        "\n",
        "          print()\n",
        "\n",
        "          #Media e maxima de avaliaçoes positivas\n",
        "          max_positivas = RPG['Positive'].max() #mostra o maior valor de DLCs\n",
        "          print(f'Para o genero RPG, temos {max_positivas:.2f} avalições positivas')\n",
        "\n",
        "          media_positivas = RPG['Positive'].mean()\n",
        "          print(f'Em media, temos {media_positivas:.2f} avalições positivas presentes nesta categoria')\n",
        "\n",
        "          print()\n",
        "\n",
        "          #Media e maxima de avaliaçoes positivas\n",
        "          max_negativas = RPG['Negative'].max() #mostra o maior valor de DLCs\n",
        "          print(f'Para o genero RPG, temos {max_negativas:.2f} avalições negativas')\n",
        "\n",
        "          media_negativas = RPG['Negative'].mean()\n",
        "          print(f'Em media, temos {media_negativas:.2f} avalições negativas presentes nesta categoria')\n",
        "          #screenshots e filmes a ver\n",
        "\n",
        "  case '3':\n",
        "\n",
        "## 5 empresas com mais publi\n",
        "    tabela_copy = tabela.copy()\n",
        "    empresas = tabela_copy['Publishers'].value_counts()\n",
        "    top5_empresas = empresas.head(5)\n",
        "\n",
        "    top5_empresas_index = empresas.head(5).index\n",
        "\n",
        "    top5_empresas_pagos = tabela_copy[\n",
        "\n",
        "        (tabela_copy['Publishers'].isin(top5_empresas_index)) &\n",
        "        (tabela_copy['Price'] > 0)\n",
        "\n",
        "    ]\n",
        "\n",
        "\n",
        "    media_positivas = top5_empresas_pagos.groupby('Publishers')['Positive'].mean()\n",
        "\n",
        "    mediana_positivas = top5_empresas_pagos.groupby('Publishers')['Positive'].median()\n",
        "\n",
        "    display(top5_empresas)\n",
        "    display(media_positivas)\n",
        "    display(mediana_positivas)\n",
        "\n",
        "  case '4':\n",
        "\n",
        "    tabela_copy = tabela.copy()\n",
        "\n",
        "    tabela_copy['Release date'] = pd.to_datetime(tabela_copy['Release date'], format='mixed', errors='coerce')\n",
        "\n",
        "\n",
        "    jogos_2018_2022 = tabela_copy[(tabela_copy['Release date'].dt.year >= 2018) & (tabela_copy['Release date'].dt.year <= 2022)]\n",
        "    contagem_linux = jogos_2018_2022[jogos_2018_2022['Linux']].groupby(jogos_2018_2022['Release date'].dt.year).size()\n",
        "\n",
        "    display(contagem_linux)\n",
        "\n",
        "    crescimento = contagem_linux.diff().dropna()  # Calcula a diferença ano a ano\n",
        "    cresceu = crescimento > 0  # Verifica se a diferença é positiva\n",
        "\n",
        "\n",
        "    display(crescimento)\n",
        "\n",
        "\n",
        "  ###########################\n",
        "  ######## GRAFICOS #########\n",
        "  ###########################\n",
        "\n",
        "  case '5':\n",
        "    sist_op = tabela.copy()\n",
        "\n",
        "    contagem_sistemas = {\n",
        "        'Windows': sist_op['Windows'].sum(),\n",
        "        'Linux': sist_op['Linux'].sum(),\n",
        "        'Mac': sist_op['Mac'].sum()\n",
        "    }\n",
        "\n",
        "    contagem_sistemas_df = pd.DataFrame(list(contagem_sistemas.items()), columns=['Sistema Operacional', 'Quantidade'])\n",
        "\n",
        "    total_jogos = len(sist_op)\n",
        "    contagem_sistemas_df['Porcentagem'] = (contagem_sistemas_df['Quantidade'] / total_jogos)\n",
        "\n",
        "    ## grafico\n",
        "\n",
        "    plt.figure(figsize=(10,6))\n",
        "    contagem_sistemas_df.set_index('Sistema Operacional')['Porcentagem'].plot(kind='bar', color=['blue', 'orange', 'green'])\n",
        "    plt\n",
        "    plt.title('Porcentage para sistemas operacionais')\n",
        "    plt.ylabel('Porcentagem')\n",
        "    plt.xlabel('Sistema Operacional')\n",
        "    plt.xticks(rotation=50)\n",
        "    plt.grid(axis='y')\n",
        "    plt.tight_layout()\n",
        "    plt.show()"
      ],
      "metadata": {
        "colab": {
          "base_uri": "https://localhost:8080/",
          "height": 644
        },
        "id": "KPtdGRWZc2Ur",
        "outputId": "b86e33b0-6f5f-48e8-a243-e360a5d85d3d"
      },
      "execution_count": 38,
      "outputs": [
        {
          "name": "stdout",
          "output_type": "stream",
          "text": [
            "Digite o nome do arquivo: steam_games.csv\n",
            "Digite o número da questão: 5\n"
          ]
        },
        {
          "output_type": "display_data",
          "data": {
            "text/plain": [
              "<Figure size 1000x600 with 1 Axes>"
            ],
            "image/png": "[encoded data removed]"
          },
          "metadata": {}
        }
      ]
    }
  ]
}